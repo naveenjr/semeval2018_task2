{
 "cells": [
  {
   "cell_type": "code",
   "execution_count": 2,
   "metadata": {},
   "outputs": [],
   "source": [
    "from load_data import get_data\n",
    "import numpy as np\n",
    "import fasttext"
   ]
  },
  {
   "cell_type": "code",
   "execution_count": 3,
   "metadata": {},
   "outputs": [],
   "source": [
    "import sys\n",
    "reload(sys)\n",
    "sys.setdefaultencoding('utf-8')"
   ]
  },
  {
   "cell_type": "code",
   "execution_count": 4,
   "metadata": {},
   "outputs": [],
   "source": [
    "data = []\n",
    "lang = 'english'\n",
    "train_data, train_label, test_data = get_data(lang)"
   ]
  },
  {
   "cell_type": "code",
   "execution_count": 5,
   "metadata": {},
   "outputs": [],
   "source": [
    "shuffled_indices = np.random.permutation(len(train_data))\n",
    "train_data = np.array(train_data)[shuffled_indices]\n",
    "train_data = train_data.tolist()\n",
    "train_label = np.array(train_label)[shuffled_indices]\n",
    "train_label = train_label.tolist()"
   ]
  },
  {
   "cell_type": "code",
   "execution_count": 6,
   "metadata": {},
   "outputs": [],
   "source": [
    "# Divide the aata into 80% train, 20% test\n",
    "temp_train_data = train_data[0:int(0.8*len(train_data))]\n",
    "temp_train_label = train_label[0:int(0.8*len(train_label))]\n",
    "temp_test_data = train_data[int(0.8*len(train_data)):]\n",
    "temp_test_labels = train_label[int(0.8*len(train_label)):]"
   ]
  },
  {
   "cell_type": "code",
   "execution_count": 7,
   "metadata": {},
   "outputs": [
    {
     "data": {
      "text/plain": [
       "(150162, 150162, 37541, 37541)"
      ]
     },
     "execution_count": 7,
     "metadata": {},
     "output_type": "execute_result"
    }
   ],
   "source": [
    "len(temp_train_data), len(temp_train_label), len(temp_test_data), len(temp_test_labels)"
   ]
  },
  {
   "cell_type": "code",
   "execution_count": 8,
   "metadata": {},
   "outputs": [],
   "source": [
    "fast_train_file = '../data/fast_train.txt'\n",
    "fast_test_file = '../data/fast_test.txt'\n",
    "writeFile = open(fast_train_file, 'w')\n",
    "for text, label in zip(temp_train_data, temp_train_label):\n",
    "    writeFile.write('__label__'+str(label)+' '+text+'\\n')\n",
    "writeFile.close()\n",
    "\n",
    "writeFile = open(fast_test_file, 'w')\n",
    "for text, label in zip(temp_test_data, temp_test_labels):\n",
    "    writeFile.write('__label__'+str(label)+' '+text+'\\n')\n",
    "writeFile.close()"
   ]
  },
  {
   "cell_type": "code",
   "execution_count": 16,
   "metadata": {},
   "outputs": [],
   "source": [
    "foo=[]\n",
    "for dimention in range(100,1000,100):\n",
    "    for window in range(2,6,1):\n",
    "        classifier = fasttext.supervised(fast_train_file, '../models/model',dim = dimention,  ws= window)\n",
    "        result = classifier.test(fast_test_file)\n",
    "        print(result.precision, result.recall, result.nexamples)\n",
    "        foo.append([dimention,window,result.precision,result.recall, result.nexamples])"
   ]
  },
  {
   "cell_type": "code",
   "execution_count": 15,
   "metadata": {},
   "outputs": [
    {
     "data": {
      "text/plain": [
       "[[0.41264217788551183, 0.41264217788551183, 37541],\n",
       " [0.41258890279960575, 0.41258890279960575, 37541],\n",
       " [0.41293519085799524, 0.41293519085799524, 37541],\n",
       " [0.4128286406861831, 0.4128286406861831, 37541]]"
      ]
     },
     "execution_count": 15,
     "metadata": {},
     "output_type": "execute_result"
    }
   ],
   "source": [
    "foo"
   ]
  },
  {
   "cell_type": "code",
   "execution_count": 10,
   "metadata": {},
   "outputs": [],
   "source": [
    "result = classifier.test(fast_test_file)"
   ]
  },
  {
   "cell_type": "code",
   "execution_count": 11,
   "metadata": {},
   "outputs": [
    {
     "data": {
      "text/plain": [
       "(0.4112570256519539, 0.4112570256519539, 37541)"
      ]
     },
     "execution_count": 11,
     "metadata": {},
     "output_type": "execute_result"
    }
   ],
   "source": [
    "result.precision, result.recall, result.nexamples"
   ]
  },
  {
   "cell_type": "code",
   "execution_count": 24,
   "metadata": {
    "collapsed": true
   },
   "outputs": [],
   "source": [
    "final_fast_train_file = '../data/final_fast_train.txt'\n",
    "writeFile = open(final_fast_train_file, 'w')\n",
    "for text, label in zip(train_data, train_label):\n",
    "    writeFile.write('__label__'+str(label)+' '+text+'\\n')\n",
    "writeFile.close()"
   ]
  },
  {
   "cell_type": "code",
   "execution_count": 25,
   "metadata": {
    "collapsed": true
   },
   "outputs": [],
   "source": [
    "classifier = fasttext.supervised(final_fast_train_file, '../models/model',dim = dimention, ws= window,  )"
   ]
  },
  {
   "cell_type": "code",
   "execution_count": 26,
   "metadata": {
    "collapsed": true
   },
   "outputs": [],
   "source": [
    "final_labels = classifier.predict(test_data)"
   ]
  },
  {
   "cell_type": "code",
   "execution_count": 27,
   "metadata": {
    "collapsed": true
   },
   "outputs": [],
   "source": [
    "writeFile = open('../submission/'+lang+'.output.txt', 'w')\n",
    "for value in final_labels:\n",
    "    writeFile.write(value[0])\n",
    "    writeFile.write('\\n')\n",
    "writeFile.close()"
   ]
  },
  {
   "cell_type": "code",
   "execution_count": 13,
   "metadata": {},
   "outputs": [
    {
     "data": {
      "text/plain": [
       "0"
      ]
     },
     "execution_count": 13,
     "metadata": {},
     "output_type": "execute_result"
    }
   ],
   "source": [
    "classifier.bucket\n"
   ]
  },
  {
   "cell_type": "code",
   "execution_count": null,
   "metadata": {
    "collapsed": true
   },
   "outputs": [],
   "source": [
    "'''input_file             training file path (required)\n",
    "output                 output file path (required)\n",
    "label_prefix           label prefix ['__label__']\n",
    "lr                     learning rate [0.1]\n",
    "lr_update_rate         change the rate of updates for the learning rate [100]\n",
    "dim                    size of word vectors [100]\n",
    "ws                     size of the context window [5]\n",
    "epoch                  number of epochs [5]\n",
    "min_count              minimal number of word occurences [1]\n",
    "neg                    number of negatives sampled [5]\n",
    "word_ngrams            max length of word ngram [1]\n",
    "loss                   loss function {ns, hs, softmax} [softmax]\n",
    "bucket                 number of buckets [0]\n",
    "minn                   min length of char ngram [0]\n",
    "maxn                   max length of char ngram [0]\n",
    "thread                 number of threads [12]\n",
    "t                      sampling threshold [0.0001]\n",
    "silent                 disable the log output from the C++ extension [1]\n",
    "encoding               specify input_file encoding [utf-8]\n",
    "pretrained_vectors     pretrained word vectors (.vec file) for supervised learning []'''"
   ]
  },
  {
   "cell_type": "code",
   "execution_count": null,
   "metadata": {
    "collapsed": true
   },
   "outputs": [],
   "source": []
  }
 ],
 "metadata": {
  "kernelspec": {
   "display_name": "Python 2",
   "language": "python",
   "name": "python2"
  },
  "language_info": {
   "codemirror_mode": {
    "name": "ipython",
    "version": 2
   },
   "file_extension": ".py",
   "mimetype": "text/x-python",
   "name": "python",
   "nbconvert_exporter": "python",
   "pygments_lexer": "ipython2",
   "version": "2.7.6"
  }
 },
 "nbformat": 4,
 "nbformat_minor": 2
}
